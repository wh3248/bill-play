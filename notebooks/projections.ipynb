{
 "cells": [
  {
   "cell_type": "code",
   "execution_count": 10,
   "id": "6a9e269e",
   "metadata": {},
   "outputs": [],
   "source": [
    "\"\"\"Plot domain mask with develop environment version\"\"\"\n",
    "import os\n",
    "import PIL.Image\n",
    "import numpy as np\n",
    "\n",
    "def create_domain_mask_develop_png():\n",
    "    domain_mask_png = \"/home/HYDROAPP/develop/wh3248/h4/domain_files/domain_mask.png\"\n",
    "    if not os.path.exists(domain_mask_png):\n",
    "        raise ValueError(f\"{domain_mask_png} does not exist\")\n",
    "    pdata = PIL.Image.open(domain_mask_png)\n",
    "    ndata = np.array(pdata)\n",
    "    ndata = np.flip(ndata, 0)\n",
    "    print(ndata.shape)\n",
    "    ndata = np.where(ndata == 1, 0, 0xFFFF)\n",
    "    ndata = ndata.astype(np.uint16)\n",
    "    img = PIL.Image.fromarray(ndata)\n",
    "    img = img.resize((ndata.shape[0]*10, ndata.shape[1]*10), PIL.Image.NEAREST)\n",
    "    return img\n",
    "\n"
   ]
  },
  {
   "cell_type": "code",
   "execution_count": 11,
   "id": "29cb2da4",
   "metadata": {},
   "outputs": [],
   "source": [
    "\"\"\"Plot domain mask with main environment version\"\"\"\n",
    "import os\n",
    "import PIL.Image\n",
    "import numpy as np\n",
    "def create_domain_mask_main_png():\n",
    "    domain_mask_png = \"/home/HYDROAPP/main/wh3248/h4/domain_files/domain_mask.png\"\n",
    "    if not os.path.exists(domain_mask_png):\n",
    "        raise ValueError(f\"{domain_mask_png} does not exist\")\n",
    "    pdata = PIL.Image.open(domain_mask_png)\n",
    "    ndata = np.array(pdata)\n",
    "    ndata = np.flip(ndata, 0)\n",
    "    print(ndata.shape)\n",
    "    ndata = np.where(ndata == 1, 0, 0xFFFF)\n",
    "    ndata = ndata.astype(np.uint16)\n",
    "    img = PIL.Image.fromarray(ndata)\n",
    "    img = img.resize((260, 230), PIL.Image.NEAREST)\n",
    "    return img\n"
   ]
  },
  {
   "cell_type": "code",
   "execution_count": 12,
   "id": "7503cf90",
   "metadata": {},
   "outputs": [
    {
     "name": "stdout",
     "output_type": "stream",
     "text": [
      "(26, 23)\n"
     ]
    },
    {
     "data": {
      "image/png": "[encoded data removed]",
      "text/plain": [
       "<PIL.Image.Image image mode=L size=260x230>"
      ]
     },
     "metadata": {},
     "output_type": "display_data"
    },
    {
     "name": "stdout",
     "output_type": "stream",
     "text": [
      "(25, 22)\n"
     ]
    },
    {
     "data": {
      "image/png": "[encoded data removed]",
      "text/plain": [
       "<PIL.Image.Image image mode=L size=260x230>"
      ]
     },
     "metadata": {},
     "output_type": "display_data"
    }
   ],
   "source": [
    "img = create_domain_mask_develop_png()\n",
    "img.show()\n",
    "img = create_domain_mask_main_png()\n",
    "img.show()"
   ]
  },
  {
   "cell_type": "code",
   "execution_count": null,
   "id": "c4a5b859",
   "metadata": {},
   "outputs": [],
   "source": []
  }
 ],
 "metadata": {
  "kernelspec": {
   "display_name": "Python 3 (ipykernel)",
   "language": "python",
   "name": "python3"
  },
  "language_info": {
   "codemirror_mode": {
    "name": "ipython",
    "version": 3
   },
   "file_extension": ".py",
   "mimetype": "text/x-python",
   "name": "python",
   "nbconvert_exporter": "python",
   "pygments_lexer": "ipython3",
   "version": "3.9.12"
  }
 },
 "nbformat": 4,
 "nbformat_minor": 5
}
