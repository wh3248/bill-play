{
 "cells": [
  {
   "cell_type": "code",
   "execution_count": null,
   "id": "2b1a7ca6",
   "metadata": {},
   "outputs": [],
   "source": []
  },
  {
   "cell_type": "code",
   "execution_count": 1,
   "id": "6a9e269e",
   "metadata": {},
   "outputs": [],
   "source": [
    "\"\"\"Plot domain mask with develop environment version\"\"\"\n",
    "import os\n",
    "import PIL.Image\n",
    "import numpy as np\n",
    "\n",
    "def create_domain_mask_develop_png():\n",
    "    domain_mask_png = \"/home/HYDROAPP/develop/wh3248/h4/domain_files/domain_mask.png\"\n",
    "    if not os.path.exists(domain_mask_png):\n",
    "        raise ValueError(f\"{domain_mask_png} does not exist\")\n",
    "    pdata = PIL.Image.open(domain_mask_png)\n",
    "    ndata = np.array(pdata)\n",
    "    ndata = np.flip(ndata, 0)\n",
    "    print(ndata.shape)\n",
    "    ndata = np.where(ndata == 1, 0, 0xFFFF)\n",
    "    ndata = ndata.astype(np.uint16)\n",
    "    img = PIL.Image.fromarray(ndata)\n",
    "    img = img.resize((ndata.shape[0]*10, ndata.shape[1]*10), PIL.Image.NEAREST)\n",
    "    return img\n",
    "\n"
   ]
  },
  {
   "cell_type": "code",
   "execution_count": 2,
   "id": "29cb2da4",
   "metadata": {},
   "outputs": [],
   "source": [
    "\"\"\"Plot domain mask with main environment version\"\"\"\n",
    "import os\n",
    "import PIL.Image\n",
    "import numpy as np\n",
    "def create_domain_mask_main_png():\n",
    "    domain_mask_png = \"/home/HYDROAPP/main/wh3248/h4/domain_files/domain_mask.png\"\n",
    "    if not os.path.exists(domain_mask_png):\n",
    "        raise ValueError(f\"{domain_mask_png} does not exist\")\n",
    "    pdata = PIL.Image.open(domain_mask_png)\n",
    "    ndata = np.array(pdata)\n",
    "    ndata = np.flip(ndata, 0)\n",
    "    print(ndata.shape)\n",
    "    ndata = np.where(ndata == 1, 0, 0xFFFF)\n",
    "    ndata = ndata.astype(np.uint16)\n",
    "    img = PIL.Image.fromarray(ndata)\n",
    "    img = img.resize((260, 230), PIL.Image.NEAREST)\n",
    "    return img\n"
   ]
  },
  {
   "cell_type": "code",
   "execution_count": 21,
   "id": "917465fa",
   "metadata": {},
   "outputs": [
    {
     "data": {
      "text/plain": [
       "([-1591563.7545318902, -1568563.7545318902],\n",
       " [333344.9976243004, 359344.9976243004])"
      ]
     },
     "execution_count": 21,
     "metadata": {},
     "output_type": "execute_result"
    }
   ],
   "source": [
    "import os\n",
    "import json\n",
    "\n",
    "def get_domain_xy_bounds():\n",
    "    \"\"\"Return (x_bounds, y_bounds) of domain in X,Y (esri:102004) coordinate space\n",
    "    The x_bounds [x_low, x_high] and y_bounds = [y_low, y_high].\n",
    "    For example, x_low is the left most x point in meters (not K meters)\n",
    "    using the esri:102004 world center point\n",
    "    \"\"\"\n",
    "\n",
    "    domain_state_path = \"/home/HYDROAPP/develop/wh3248/h4/domain_state.json\"\n",
    "    if not os.path.exists(domain_state_path):\n",
    "        raise ValueError(f\"{domain_state_path} does not exist.\")\n",
    "    domain_state = {}\n",
    "    with open(domain_state_path) as stream:\n",
    "        contents = stream.read()\n",
    "        domain_state = json.loads(contents)\n",
    "    grid_bounds = domain_state.get(\"grid_bounds\", None)\n",
    "    if not grid_bounds:\n",
    "        raise ValueError(\"No grid_bounds found of the domain\")\n",
    "    # x,y bbox from CONUS1 shapefile in X,Y (esri:102004) coordinate space\n",
    "    conus_x_bounds = [-1884563.7545318902, 1457436.245467998]\n",
    "    conus_y_bounds = [-605655.0023756996, 1282344.9976419993]\n",
    "    x_bounds = [\n",
    "        conus_x_bounds[0] + grid_bounds[0] * 1000,\n",
    "        conus_x_bounds[0] + grid_bounds[2] * 1000,\n",
    "    ]\n",
    "    y_bounds = [\n",
    "        conus_y_bounds[0] + grid_bounds[1] * 1000,\n",
    "        conus_y_bounds[0] + grid_bounds[3] * 1000,\n",
    "    ]\n",
    "    return (x_bounds, y_bounds)\n",
    "\n",
    "\n",
    "get_domain_xy_bounds()\n"
   ]
  },
  {
   "cell_type": "code",
   "execution_count": 32,
   "id": "8fc62398",
   "metadata": {},
   "outputs": [
    {
     "data": {
      "text/plain": [
       "'/home/wh3248/tmp/foo.png'"
      ]
     },
     "execution_count": 32,
     "metadata": {},
     "output_type": "execute_result"
    }
   ],
   "source": [
    "\"\"\"Create heatmap projection png of domain soil moisture forecast\"\"\"\n",
    "import os\n",
    "import xarray as xr\n",
    "import numpy as np\n",
    "import matplotlib.pyplot as plt\n",
    "import pandas as pd\n",
    "\n",
    "\n",
    "def create_sm_forecast_png(coord_system=\"epsg:4326\"):\n",
    "    sm_path = \"/home/HYDROAPP/develop/wh3248/h4/forecast/1/forecast.2023-03-17_2023-06-14.nc\"\n",
    "    if not os.path.exists(sm_path):\n",
    "        raise ValueError(f\"{sm_path} does not exist.\")\n",
    "    ds = xr.open_dataset(sm_path)\n",
    "    data_array = ds[\"soil_moisture\"]\n",
    "\n",
    "    domain_mask_path = \"/home/HYDROAPP/develop/wh3248/h4/domain_files/domain_mask.png\"\n",
    "    if not os.path.exists(domain_mask_path):\n",
    "        raise ValueError(f\"{domain_mask_path} does not exist\")\n",
    "    img = PIL.Image.open(domain_mask_path)\n",
    "    domain_mask = np.array(img)\n",
    "    cmap = plt.colormaps.get(\"viridis\")\n",
    "    color_map = (np.array([cmap(v)[0:3] for v in range(0, cmap.N)]) * 255).astype(np.uint8)\n",
    "    data_array = data_array.isel(time=0)\n",
    "    data_array = data_array.isel(z=4)\n",
    "    data_array = data_array.isel(member=0)\n",
    "    data_np = data_array.to_numpy().astype(int)\n",
    "    data_df = (pd.DataFrame(data_np).stack().rename_axis([\"y\", \"x\"]).reset_index(name=\"val\"))\n",
    "\n",
    "    cmap_df = pd.DataFrame(color_map, columns=[\"red\", \"green\", \"blue\"], dtype=int)\n",
    "    cmap_df[\"val\"] = np.arange(color_map.shape[0])\n",
    "    mapped_df = data_df.join(cmap_df, on=\"val\", how=\"left\", rsuffix=\"val\")\n",
    "    red_numpy = np.reshape(\n",
    "        mapped_df[\"red\"].to_numpy().astype(np.uint8), data_array.shape\n",
    "    )\n",
    "    green_numpy = np.reshape(\n",
    "        mapped_df[\"green\"].to_numpy().astype(np.uint8), data_array.shape\n",
    "    )\n",
    "    blue_numpy = np.reshape(\n",
    "        mapped_df[\"blue\"].to_numpy().astype(np.uint8), data_array.shape\n",
    "    )\n",
    "\n",
    "    red_numpy[domain_mask == 0] = 0xFFFF\n",
    "    green_numpy[domain_mask == 0] = 0xFFFF\n",
    "    blue_numpy[domain_mask == 0] = 0xFFFF\n",
    "    xds = xr.Dataset(\n",
    "        data_vars=dict(\n",
    "            R=([\"y\", \"x\"], red_numpy),\n",
    "            G=([\"y\", \"x\"], green_numpy),\n",
    "            B=([\"y\", \"x\"], blue_numpy),\n",
    "        )\n",
    "    )\n",
    "    (x_bounds, y_bounds) = get_domain_xy_bounds()\n",
    "    xcoord = np.linspace(x_bounds[0], x_bounds[1], num=len(xds[\"x\"]))\n",
    "    ycoord = np.linspace(y_bounds[0], y_bounds[1], num=len(xds[\"y\"]))\n",
    "\n",
    "    # Assign the esri:102004 coordindates to the xarray dataset\n",
    "    xds = xds.assign_coords({\"x\": xcoord, \"y\": ycoord})\n",
    "    xds = xds.rio.write_crs(\"esri:102004\")\n",
    "    xds = xds.rio.write_coordinate_system()\n",
    "\n",
    "    # project to the lat/lng (epsg:3857) coordindate space\n",
    "    xds = xds.rio.reproject(coord_system)\n",
    "\n",
    "    # Convert it to a raster file as a .png\n",
    "    png_path = \"/home/wh3248/tmp/foo.png\"\n",
    "    xds.rio.to_raster(png_path)\n",
    "    img = PIL.Image.open(png_path)\n",
    "    img = img.resize((data_np.shape[0]*10, data_np.shape[1]*10), PIL.Image.NEAREST)\n",
    "    img.save(png_path, transparent=True)\n",
    "    return png_path\n",
    "    \n",
    "create_sm_forecast_png()\n",
    "        "
   ]
  },
  {
   "cell_type": "code",
   "execution_count": 39,
   "id": "7503cf90",
   "metadata": {},
   "outputs": [
    {
     "name": "stdout",
     "output_type": "stream",
     "text": [
      "(26, 23)\n"
     ]
    },
    {
     "data": {
      "image/png": "[encoded data removed]",
      "text/plain": [
       "<PIL.Image.Image image mode=L size=260x230>"
      ]
     },
     "metadata": {},
     "output_type": "display_data"
    },
    {
     "data": {
      "image/png": "[encoded data removed]",
      "text/plain": [
       "<IPython.core.display.Image object>"
      ]
     },
     "metadata": {},
     "output_type": "display_data"
    },
    {
     "ename": "AttributeError",
     "evalue": "'Image' object has no attribute 'rotate'",
     "output_type": "error",
     "traceback": [
      "\u001b[0;31m---------------------------------------------------------------------------\u001b[0m",
      "\u001b[0;31mAttributeError\u001b[0m                            Traceback (most recent call last)",
      "Cell \u001b[0;32mIn [39], line 7\u001b[0m\n\u001b[1;32m      5\u001b[0m display(Image(filename\u001b[38;5;241m=\u001b[39mpng_path))\n\u001b[1;32m      6\u001b[0m png_path \u001b[38;5;241m=\u001b[39m create_sm_forecast_png(\u001b[38;5;124m\"\u001b[39m\u001b[38;5;124mepsg:3248\u001b[39m\u001b[38;5;124m\"\u001b[39m)\n\u001b[0;32m----> 7\u001b[0m display(\u001b[43mImage\u001b[49m\u001b[43m(\u001b[49m\u001b[43mfilename\u001b[49m\u001b[38;5;241;43m=\u001b[39;49m\u001b[43mpng_path\u001b[49m\u001b[43m)\u001b[49m\u001b[38;5;241;43m.\u001b[39;49m\u001b[43mrotate\u001b[49m(\u001b[38;5;241m90\u001b[39m))\n",
      "\u001b[0;31mAttributeError\u001b[0m: 'Image' object has no attribute 'rotate'"
     ]
    }
   ],
   "source": [
    "from IPython.display import Image, display\n",
    "img = create_domain_mask_develop_png()\n",
    "img.show()\n",
    "png_path = create_sm_forecast_png()\n",
    "display(Image(filename=png_path).ro)\n",
    "png_path = create_sm_forecast_png(\"epsg:3248\")\n",
    "display(Image(filename=png_path).rotate(90))\n"
   ]
  },
  {
   "cell_type": "code",
   "execution_count": null,
   "id": "45abeddb",
   "metadata": {},
   "outputs": [],
   "source": []
  }
 ],
 "metadata": {
  "kernelspec": {
   "display_name": "Python 3 (ipykernel)",
   "language": "python",
   "name": "python3"
  },
  "language_info": {
   "codemirror_mode": {
    "name": "ipython",
    "version": 3
   },
   "file_extension": ".py",
   "mimetype": "text/x-python",
   "name": "python",
   "nbconvert_exporter": "python",
   "pygments_lexer": "ipython3",
   "version": "3.9.12"
  }
 },
 "nbformat": 4,
 "nbformat_minor": 5
}
