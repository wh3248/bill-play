{
 "cells": [
  {
   "cell_type": "markdown",
   "metadata": {},
   "source": [
    "# Define utility functions\n"
   ]
  },
  {
   "cell_type": "code",
   "execution_count": 3,
   "metadata": {},
   "outputs": [
    {
     "name": "stdout",
     "output_type": "stream",
     "text": [
      "Loaded functions.\n"
     ]
    }
   ],
   "source": [
    "import datetime\n",
    "import hf_hydrodata as hf\n",
    "import xarray as xr\n",
    "\n",
    "def get_snowtel_data(site_id, start_date, num_days):\n",
    "    \"\"\"\n",
    "    Get snowtel average temp data from one site for num_days starting at start_date.\n",
    "    Returns: (data, x, y) where x,y are conus2 grid location of the site.\n",
    "    \"\"\"\n",
    "    site_filter_options = {\"dataset\": \"snotel\", \"variable\": \"air_temp\", \"site_id\": site_id}\n",
    "    site_path = hf.get_paths(site_filter_options) [0]\n",
    "    ds = xr.open_dataset(site_path)\n",
    "    lat = ds.attrs[\"latitude\"]\n",
    "    lon = ds.attrs[\"longitude\"]\n",
    "    (x, y) = hf.to_ij(\"conus2\", lat, lon)\n",
    "    (x, y) = hf.to_meters(\"conus2\", lat, lon)\n",
    "    x = int(x/1000)\n",
    "    y = int(y/1000)\n",
    "    print(x, y, lat, lon)\n",
    "    da = ds[\"temp_avg\"]\n",
    "    end_date = (datetime.datetime.strptime(start_date, \"%Y-%m-%d\") + datetime.timedelta(days=num_days-1)).strftime(\"%Y-%m-%d\")\n",
    "    data = da.sel(date=slice(start_date, end_date)).values\n",
    "    data = data + 273.5\n",
    "    return (data, x, y)\n",
    "\n",
    "def print_site_cw3e_differences(site_id, start_date, num_days, tolerance):\n",
    "    \"\"\"\n",
    "    Print the difference in average temperature for the observation site compared with CW3E data from num_days from start_date\n",
    "    Only print values that diff by more than 1 degree Kelvin.\n",
    "    \"\"\"\n",
    "    (site_data, x, y) = get_snowtel_data(site_id, start_date, num_days)\n",
    "    print(site_data.shape)\n",
    "    grid_bounds = [x, y, x + 1, y + 1]\n",
    "    end_time = datetime.datetime.strptime(start_time, \"%Y-%m-%d\") + datetime.timedelta(days=num_days)\n",
    "    cw3e_filter_options = {\n",
    "        \"dataset\": \"CW3E\", \"variable\": \"air_temp\", \"temporal_resolution\": \"daily\", \"aggregation\":\"mean\", \n",
    "        \"grid_bounds\": grid_bounds, \"start_time\": start_date, \"end_time\":end_time}\n",
    "    cw3e_data = hf.get_gridded_data(cw3e_filter_options)\n",
    "    num_diffs = 0\n",
    "    for i in range(0, num_days):\n",
    "        diff = site_data[i] - cw3e_data[i, 0, 0]\n",
    "        if abs(diff) > tolerance:\n",
    "            num_diffs = num_diffs + 1\n",
    "            date = (datetime.datetime.strptime(start_date, \"%Y-%m-%d\") + datetime.timedelta(days = i)).strftime(\"%Y-%m-%d\")\n",
    "            print(f\"{site_id} {date} Site {site_data[i]}, CW3E {cw3e_data[i, 0, 0]} DIFF {diff}\")\n",
    "    print(f\"{num_diffs} days outside the {tolerance} degrees\")\n",
    "\n",
    "print(\"Loaded functions.\")\n",
    "\n",
    "\n"
   ]
  },
  {
   "cell_type": "markdown",
   "metadata": {},
   "source": [
    "# Find Differences between site values and old CW3E daily mean values."
   ]
  },
  {
   "cell_type": "code",
   "execution_count": 4,
   "metadata": {},
   "outputs": [
    {
     "name": "stdout",
     "output_type": "stream",
     "text": [
      "258 2286 42.87007 -122.16518\n",
      "(365,)\n",
      "1000:OR:SNTL 2006-01-10 Site 276.1, CW3E 269.9594357808431 DIFF 6.140564219156943\n",
      "1000:OR:SNTL 2006-01-16 Site 272.3, CW3E 266.9452718098958 DIFF 5.354728190104197\n",
      "1000:OR:SNTL 2006-02-01 Site 274.8, CW3E 268.5323143005371 DIFF 6.267685699462902\n",
      "1000:OR:SNTL 2006-02-06 Site 272.1, CW3E 266.4439582824707 DIFF 5.65604171752932\n",
      "1000:OR:SNTL 2006-02-14 Site 268.1, CW3E 275.1978365580241 DIFF -7.097836558024085\n",
      "1000:OR:SNTL 2006-03-14 Site 270.0, CW3E 263.88648986816406 DIFF 6.1135101318359375\n",
      "1000:OR:SNTL 2006-03-21 Site 272.7, CW3E 266.63283665974933 DIFF 6.067163340250659\n",
      "1000:OR:SNTL 2006-04-19 Site 277.0, CW3E 271.98134994506836 DIFF 5.018650054931641\n",
      "1000:OR:SNTL 2006-08-29 Site 284.7, CW3E 291.3552080790202 DIFF -6.655208079020213\n",
      "1000:OR:SNTL 2006-08-30 Site 281.0, CW3E 286.3109944661458 DIFF -5.310994466145814\n",
      "1000:OR:SNTL 2006-09-14 Site 277.8, CW3E 287.6394437154134 DIFF -9.839443715413381\n",
      "1000:OR:SNTL 2006-09-19 Site 276.6, CW3E 282.1240717569987 DIFF -5.524071756998694\n",
      "1000:OR:SNTL 2006-10-24 Site 275.6, CW3E 281.48851267496747 DIFF -5.888512674967444\n",
      "1000:OR:SNTL 2006-10-29 Site 275.9, CW3E 281.90564092000324 DIFF -6.005640920003259\n",
      "1000:OR:SNTL 2006-11-13 Site 274.6, CW3E 268.397211710612 DIFF 6.202788289388025\n",
      "1000:OR:SNTL 2006-11-30 Site 272.7, CW3E 264.6472867329915 DIFF 8.052713267008471\n",
      "1000:OR:SNTL 2006-12-15 Site 267.2, CW3E 273.29885482788086 DIFF -6.098854827880871\n",
      "1000:OR:SNTL 2006-12-23 Site 274.1, CW3E 266.85571670532227 DIFF 7.244283294677757\n",
      "18 days outside the 5 degrees\n"
     ]
    }
   ],
   "source": [
    "site_ids = [\"350:WY:SNTL\", \"347:MT:SNTL\", \"368:UT:SNTL\", \"396:UT:SNTL\", \"913:CO:SNTL\", \"2090:AR:SCAN\"]\n",
    "site_ids = [\"350:WY:SNTL\"]\n",
    "site_ids = [\"1000:OR:SNTL\"]\n",
    "\n",
    "start_time = \"2006-01-01\"\n",
    "num_days = 365\n",
    "for site_id in site_ids:\n",
    "    print_site_cw3e_differences(site_id, start_time, num_days, 5)"
   ]
  }
 ],
 "metadata": {
  "kernelspec": {
   "display_name": "base",
   "language": "python",
   "name": "python3"
  },
  "language_info": {
   "codemirror_mode": {
    "name": "ipython",
    "version": 3
   },
   "file_extension": ".py",
   "mimetype": "text/x-python",
   "name": "python",
   "nbconvert_exporter": "python",
   "pygments_lexer": "ipython3",
   "version": "3.11.4"
  }
 },
 "nbformat": 4,
 "nbformat_minor": 4
}
