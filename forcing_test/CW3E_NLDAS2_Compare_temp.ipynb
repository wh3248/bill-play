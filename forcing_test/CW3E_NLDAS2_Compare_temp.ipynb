{
 "cells": [
  {
   "cell_type": "markdown",
   "id": "fa80072b",
   "metadata": {},
   "source": [
    "# Compare CW3E and NLDAS2\n"
   ]
  },
  {
   "cell_type": "markdown",
   "id": "3ff2996d-851b-405b-a827-8b0a917ad887",
   "metadata": {},
   "source": [
    "Runs a comparison between CW3E and NLDAS2 in the following steps:\n",
    "1) Reads in CONUS1 NLDAS2 forcing data\n",
    "2) Reads in CONUS2 CW3E forcing data\n",
    "3) Reads in metadata for CONUS1 SNOTEL sites\n",
    "4) Performs comparison by subtracting CW3E-NLDAS2 temp each day, and takes the avg (same outputs as second method, which finds annual avg temp and then takes difference)\n",
    "5) Plots results on CONUS1 domain"
   ]
  },
  {
   "cell_type": "code",
   "execution_count": null,
   "id": "eb18af08",
   "metadata": {},
   "outputs": [],
   "source": [
    "import sys\n",
    "from parflow.tools.io import read_pfb,write_pfb\n",
    "import numpy as np\n",
    "import pandas as pd"
   ]
  },
  {
   "cell_type": "markdown",
   "id": "143041f9",
   "metadata": {},
   "source": [
    "##### Change paths to directories, run information..."
   ]
  },
  {
   "cell_type": "code",
   "execution_count": null,
   "id": "4401bf8b",
   "metadata": {},
   "outputs": [],
   "source": [
    "### Directory to save CSV outputs\n",
    "C1_organized_dir = '/home/ad4430/ashley_intern_research_2023/precip_temp_CONUS1/Organized_csv/temperature' # verde\n",
    "C2_organized_dir = '/home/ad4430/ashley_intern_research_2023/precip_temp/Organized_csv/temperature' # verde\n",
    "\n",
    "### Where you want to save plots, etc. to\n",
    "plot_dir = '/scratch/wh3248/bill-play/forcing_test/figures'\n",
    "print(f'Figures saving to: {plot_dir}')\n",
    "\n",
    "### need to change water year and number of days\n",
    "water_year = 2006\n",
    "no_days = 365\n",
    "variable = 'Temp_C'\n",
    "\n",
    "### CONUS1 domain\n",
    "ny = 1888\n",
    "nx = 3342"
   ]
  },
  {
   "cell_type": "markdown",
   "id": "f4c40b08-b695-4dec-a459-3cefff3077ed",
   "metadata": {},
   "source": [
    "# 1. Read C1 NLDAS2 forcing"
   ]
  },
  {
   "cell_type": "markdown",
   "id": "c57ab90e-617f-4cb8-8a21-875cad9cec39",
   "metadata": {},
   "source": [
    "### Note files say CW3E, should be labeled NLDAS2 for C1 files"
   ]
  },
  {
   "cell_type": "code",
   "execution_count": null,
   "id": "addd63a5-4c26-4bb7-af7c-f9b08300b42b",
   "metadata": {},
   "outputs": [],
   "source": [
    "C1_pf_match_csv = f'CW3E_Daily_matched_CONUS1_{variable}_{water_year}.csv'"
   ]
  },
  {
   "cell_type": "code",
   "execution_count": null,
   "id": "d1f76fc7-c47c-461b-b370-d90e79e7b569",
   "metadata": {},
   "outputs": [],
   "source": [
    "NLDAS2_df = pd.read_csv(f'{C1_organized_dir}/{C1_pf_match_csv}')\n",
    "NLDAS2_df"
   ]
  },
  {
   "cell_type": "code",
   "execution_count": null,
   "id": "b93e94c4-524e-44d3-af69-dca82996ddc7",
   "metadata": {},
   "outputs": [],
   "source": [
    "NLDAS2_df = NLDAS2_df.set_index('site_id')\n",
    "NLDAS2_df "
   ]
  },
  {
   "cell_type": "markdown",
   "id": "aa7b008f",
   "metadata": {},
   "source": [
    "# 2. Read in CW3E Forcing and organize"
   ]
  },
  {
   "cell_type": "code",
   "execution_count": null,
   "id": "a747e970-8b36-4aae-b0a9-9440bfd5e51d",
   "metadata": {},
   "outputs": [],
   "source": [
    "C2_pf_match_csv = f'CW3E_Daily_matched_CONUS2_Temp_C_{water_year}.csv'"
   ]
  },
  {
   "cell_type": "code",
   "execution_count": null,
   "id": "c6eef899-e2aa-42d3-8d3d-9ae481e82e2f",
   "metadata": {},
   "outputs": [],
   "source": [
    "CW3E_df = pd.read_csv(f'{C2_organized_dir}/{C2_pf_match_csv}')\n",
    "CW3E_df"
   ]
  },
  {
   "cell_type": "code",
   "execution_count": null,
   "id": "200fd66e-576c-4998-b955-fced9957e22a",
   "metadata": {},
   "outputs": [],
   "source": [
    "CW3E_df = CW3E_df.set_index('site_id')\n",
    "CW3E_df"
   ]
  },
  {
   "cell_type": "code",
   "execution_count": null,
   "id": "ae8ae44e-2859-4db3-bf60-f12aa5968932",
   "metadata": {},
   "outputs": [],
   "source": [
    "# change C2 df to only include C1 SNOTEL sites\n",
    "CW3E_df= CW3E_df[CW3E_df.index.isin(NLDAS2_df.index)]\n",
    "CW3E_df"
   ]
  },
  {
   "cell_type": "markdown",
   "id": "559351e4-ec42-4bfc-b81a-42625e611011",
   "metadata": {},
   "source": [
    "# 3. Metadata for coords"
   ]
  },
  {
   "cell_type": "code",
   "execution_count": null,
   "id": "aa638491-16d4-4d4f-95e7-61f3a3adfea3",
   "metadata": {},
   "outputs": [],
   "source": [
    "metadata_df = pd.read_csv(f'{C1_organized_dir}/Hydrodata_temperature_metadata_daily_average_WY{water_year}.csv')\n",
    "metadata_df = metadata_df.drop(columns = ['Unnamed: 0'])\n",
    "metadata_df = metadata_df.set_index('site_id')\n",
    "metadata_df = metadata_df[metadata_df.index.isin(NLDAS2_df.index)]\n",
    "metadata_df"
   ]
  },
  {
   "cell_type": "markdown",
   "id": "e26764bd-1a18-41e8-9a57-812143acabbc",
   "metadata": {},
   "source": [
    "# 4. Performing comparison"
   ]
  },
  {
   "cell_type": "code",
   "execution_count": null,
   "id": "d65fc7ab-89fe-44c2-8143-9df3bf9f523a",
   "metadata": {},
   "outputs": [],
   "source": [
    "\n",
    "# method 1: subtracting CW3E - NLDAS2 for each day, at each gage then taking avg\n",
    "difference = np.zeros((len(CW3E_df.index), len(CW3E_df.columns)))\n",
    "for g in range(len(CW3E_df.index)):\n",
    "    gage = CW3E_df.index[g]\n",
    "    for i in range(len(CW3E_df.columns)):\n",
    "        day = CW3E_df.columns[i]\n",
    "        difference[g][i] = CW3E_df.loc[gage][day]-NLDAS2_df.loc[gage][day]\n",
    "    difference_df = pd.DataFrame(difference)\n",
    "difference_df\n",
    "\n",
    "# put gage and date headers in difference df\n",
    "difference_df = difference_df.set_index(CW3E_df.index)\n",
    "column_headers = list(CW3E_df.columns.values)\n",
    "difference_df.columns = column_headers\n",
    "difference_df\n",
    "\n",
    "# method 2: taking yearly averages, then finding difference\n",
    "avg_df = pd.DataFrame()\n",
    "#indices = list(CW3E_df.index.values)\n",
    "#avg_df.index = indices\n",
    "\n",
    "avg_CW3E = np.zeros(len(CW3E_df.index))\n",
    "avg_NLDAS2 = np.zeros(len(NLDAS2_df.index))\n",
    "for g in range(len(CW3E_df.index)):\n",
    "    gage = CW3E_df.index[g]\n",
    "    avg_CW3E[g] = CW3E_df.loc[gage].sum()/len(CW3E_df.columns)\n",
    "    avg_NLDAS2[g] = NLDAS2_df.loc[gage].sum()/len(NLDAS2_df.columns)\n",
    "\n",
    "\n",
    "avg_df['CW3E temp'] = pd.Series(avg_CW3E)\n",
    "avg_df['NLDAS2 temp'] = pd.Series(avg_NLDAS2)\n",
    "\n",
    "avg_df"
   ]
  },
  {
   "cell_type": "code",
   "execution_count": null,
   "id": "3a341343-9456-4286-8191-b96fbecf936f",
   "metadata": {},
   "outputs": [],
   "source": [
    "# mean difference\n",
    "comparison_df = pd.DataFrame()\n",
    "comparison_df['mean_diff'] = difference_df.sum(axis = 1)/365 # method 1 - taking daily difference first\n",
    "comparison_df['annual_avg_diff'] = avg_CW3E - avg_NLDAS2 # method 2 - taking avg temp first\n",
    "\n",
    "# adding metadata\n",
    "comparison_df = comparison_df.join(metadata_df['conus1_x'])\n",
    "comparison_df = comparison_df.join(metadata_df['conus1_y'])\n",
    "#comparison_df['num_obs'] = metadata_df['num_obs']\n",
    "comparison_df"
   ]
  },
  {
   "cell_type": "code",
   "execution_count": null,
   "id": "3a3c5af6-af87-470d-8961-71ee8a0e681d",
   "metadata": {},
   "outputs": [],
   "source": []
  },
  {
   "cell_type": "code",
   "execution_count": null,
   "id": "2b4eceb2-8b12-4b28-bb66-8b658a3e4a0f",
   "metadata": {},
   "outputs": [],
   "source": []
  },
  {
   "cell_type": "markdown",
   "id": "5db789fe",
   "metadata": {},
   "source": [
    "# 5. Plotting Results"
   ]
  },
  {
   "cell_type": "code",
   "execution_count": null,
   "id": "aefcfda3",
   "metadata": {},
   "outputs": [],
   "source": [
    "#from parflow.tools.io import read_pfb,write_pfb\n",
    "import numpy as np\n",
    "import pandas as pd\n",
    "import matplotlib.pyplot as plt\n",
    "import matplotlib.dates as mdates\n",
    "import datetime as dt\n",
    "#import geopandas as gpd\n",
    "from PIL import Image\n",
    "from mpl_toolkits.basemap import Basemap as Basemap"
   ]
  },
  {
   "cell_type": "code",
   "execution_count": null,
   "id": "6c2594c1-80d2-4084-a815-2a28ce28d165",
   "metadata": {},
   "outputs": [],
   "source": [
    "plot_dir = '/home/ad4430/for_ashley/precip_temp_CONUS1/Figures/summary_plots_temp'"
   ]
  },
  {
   "cell_type": "code",
   "execution_count": null,
   "id": "ff63ff28",
   "metadata": {},
   "outputs": [],
   "source": [
    "# Read in CONUS2 mask and HUC2 png for map plot border and HUC2 outlines\n",
    "CONUS2_mask = Image.open('/hydrodata/PFCLM/CONUS2_baseline/inputs/domain_files/CONUS2.0.Final1km.Mask.tif')\n",
    "mask_array = np.array(CONUS2_mask)\n",
    "HUC2_outline = Image.open('/home/ad4430/for_ashley/precip_temp_CONUS1/Figures/CONUS1_HUCmap.png')"
   ]
  },
  {
   "cell_type": "code",
   "execution_count": null,
   "id": "53f7418f",
   "metadata": {},
   "outputs": [],
   "source": [
    "# # Read in CONUS2 mask for map plot border\n",
    "# CONUS2_mask = Image.open('/hydrodata/PFCLM/CONUS2_baseline/inputs/domain_files/CONUS2.0.Final1km.Mask.tif')\n",
    "# #CONUS2_mask = Image.open('/home/dtt2/CONUS2/shape_files/CONUS2_HUC2_boundaries_clipped.tif')\n",
    "# mask_array = np.array(CONUS2_mask)"
   ]
  },
  {
   "cell_type": "code",
   "execution_count": null,
   "id": "86ab1f1c-5745-4761-9818-4e1eaa437946",
   "metadata": {},
   "outputs": [],
   "source": [
    "#\n",
    "fig, ax = plt.subplots(1,1,figsize=(16,9))\n",
    "im = ax.imshow(HUC2_outline, extent=[0, nx, 0, ny],zorder=2)\n",
    "plt.scatter(comparison_df.conus1_x,comparison_df.conus1_y, c=comparison_df.mean_diff, cmap = 'coolwarm', s=50, vmin = -10, vmax = 10)\n",
    "plt.colorbar(label='mean difference')\n",
    "plt.axis('off')\n",
    "plt.title(f'CW3E - NLDAS2, Avg Temperature Difference, WY{water_year}', fontsize = 20)\n",
    "plt.text(0, -50, \"Minimum Difference = \" + str(comparison_df.mean_diff.min()))\n",
    "plt.text(0, -100, \"Maximum Difference = \" + str(comparison_df.mean_diff.max()))\n",
    "plt.text(0, -150, \"Avg Difference across all sites = \" + str(comparison_df.mean_diff.mean()))\n",
    "plt.savefig(f'{plot_dir}/WY{water_year}_CW3E_minus_NLDAS2_{variable}_RelBias_Map.png',\\\n",
    "             dpi = 200, facecolor='white', transparent=False, bbox_inches=\"tight\")\n",
    "#print(avg_bias)s"
   ]
  },
  {
   "cell_type": "code",
   "execution_count": null,
   "id": "9521b9fb",
   "metadata": {},
   "outputs": [],
   "source": []
  },
  {
   "cell_type": "code",
   "execution_count": null,
   "id": "b4af0136",
   "metadata": {},
   "outputs": [],
   "source": []
  }
 ],
 "metadata": {
  "kernelspec": {
   "display_name": "Python 3 (ipykernel)",
   "language": "python",
   "name": "python3"
  },
  "language_info": {
   "codemirror_mode": {
    "name": "ipython",
    "version": 3
   },
   "file_extension": ".py",
   "mimetype": "text/x-python",
   "name": "python",
   "nbconvert_exporter": "python",
   "pygments_lexer": "ipython3",
   "version": "3.11.4"
  }
 },
 "nbformat": 4,
 "nbformat_minor": 5
}
